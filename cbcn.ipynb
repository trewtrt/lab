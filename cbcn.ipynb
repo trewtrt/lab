{
  "nbformat": 4,
  "nbformat_minor": 0,
  "metadata": {
    "colab": {
      "provenance": [],
      "authorship_tag": "ABX9TyMvnTjXdNXErID9edbm30F9",
      "include_colab_link": true
    },
    "kernelspec": {
      "name": "python3",
      "display_name": "Python 3"
    },
    "language_info": {
      "name": "python"
    }
  },
  "cells": [
    {
      "cell_type": "markdown",
      "metadata": {
        "id": "view-in-github",
        "colab_type": "text"
      },
      "source": [
        "<a href=\"https://colab.research.google.com/github/trewtrt/lab/blob/main/cbcn.ipynb\" target=\"_parent\"><img src=\"https://colab.research.google.com/assets/colab-badge.svg\" alt=\"Open In Colab\"/></a>"
      ]
    },
    {
      "cell_type": "code",
      "execution_count": 2,
      "metadata": {
        "colab": {
          "base_uri": "https://localhost:8080/"
        },
        "id": "xwgBDWx7sbEq",
        "outputId": "bef6d2df-d5bf-4b6f-d583-9b9bf8fc46f6"
      },
      "outputs": [
        {
          "output_type": "stream",
          "name": "stdout",
          "text": [
            "[ 5.03194397 -3.04464044]\n"
          ]
        }
      ],
      "source": [
        "import numpy as np\n",
        "from scipy.optimize import fsolve\n",
        "def f(p):\n",
        "  x,y=p\n",
        "  return (x**2+x*y-10, x*y+y**2+np.sin(x)+7)\n",
        "z=fsolve(f,(1,2))\n",
        "print(z)   "
      ]
    }
  ]
}